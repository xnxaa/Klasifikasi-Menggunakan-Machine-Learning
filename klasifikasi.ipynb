# Klasifikasi-Menggunakan-Machine-Learning
import tensorflow as tf
from tensorflow.keras.optimizers import RMSprop
from tensorflow.keras.preprocessing.image import ImageDataGenerator
!wget --no-check-certificate \
  https://dicodingacademy.blob.core.windows.net/picodiploma/ml_pemula_academy/rockpaperscissors.zip \
  -O /tmp/rockpaperscissors.zip
import zipfile,os
with zipfile.ZipFile("/tmp/rockpaperscissors.zip","r") as zip_ref:
    zip_ref.extractall("/tmp")
base = "/tmp"
!pip install split-folders tqdm
import splitfolders
splitfolders.ratio('/tmp/rockpaperscissors/rps-cv-images', output= '/tmp/rockpaperscissors/hasil', seed=1337, ratio=(.6, .4,))
BaseDir = '/tmp/rockpaperscissors/hasil'
TrainDir = os.path.join(BaseDir, 'train')
ValDir = os.path.join(BaseDir, 'val')

os.listdir(BaseDir)
train_rock = os.path.join(TrainDir, 'rock')
train_pap = os.path.join(TrainDir, 'paper')
train_sci = os.path.join(TrainDir, 'scissors')
val_rock = os.path.join(ValDir, 'rock')
val_pap = os.path.join(ValDir, 'paper')
val_sci = os.path.join(ValDir, 'scissors')
TrainData = ImageDataGenerator ( rescale=1./255,
                                rotation_range=20, 
                                width_shift_range=0.4,
                                height_shift_range=0.2,  
                                shear_range=0.2, 
                                channel_shift_range=0.4, 
                                fill_mode='wrap', 
                                horizontal_flip=True,
                                validation_split=0.2
                                )
TestData = ImageDataGenerator ( rescale=1./255,
                                rotation_range=20, 
                                width_shift_range=0.4,
                                height_shift_range=0.2,  
                                shear_range=0.2, 
                                channel_shift_range=0.4, 
                                fill_mode='wrap', 
                                horizontal_flip=True, 
                                validation_split=0.2
                                )
training_generator = TrainData.flow_from_directory(
    TrainDir,
    target_size = (150,150),
    shuffle = True,
    color_mode = 'rgb',
    seed = 42
    )
validation_generator = TestData.flow_from_directory(
    ValDir,
    target_size = (150,150),
    color_mode = 'rgb',
    seed = 42
    )
model = tf.keras.models.Sequential([
                                    tf.keras.layers.Conv2D(16, (3,3), activation = 'relu', input_shape = (150, 150, 3)),
                                    tf.keras.layers.MaxPooling2D(2,2),
                                    tf.keras.layers.Conv2D(32, (3,3), activation = 'relu'),
                                    tf.keras.layers.MaxPooling2D(2,2),
                                    tf.keras.layers.Conv2D(64, (3,3), activation = 'relu'),
                                    tf.keras.layers.MaxPooling2D(2,2),
                                    tf.keras.layers.Conv2D(128, (3,3), activation='relu'),
                                    tf.keras.layers.MaxPooling2D(2,2),
                                    tf.keras.layers.Conv2D(128, (3,3), activation='relu'),
                                    tf.keras.layers.MaxPooling2D(2,2),
                                    tf.keras.layers.Flatten(),
                                    tf.keras.layers.Dense(512, activation = 'relu'),
                                    tf.keras.layers.Dense(3, activation = 'softmax')
])
model.summary()
model.compile(
    loss = 'categorical_crossentropy',
    optimizer = tf.optimizers.Adam(),
    metrics = ['accuracy']
)
model.fit(
    training_generator,
    steps_per_epoch = 12,
    epochs = 10,
    validation_data = validation_generator,
    validation_steps = 5,
    verbose = 2
)
import numpy as np
from google.colab import files
from keras.preprocessing import image
import matplotlib.pyplot as plt
import matplotlib.image as mpimg
%matplotlib inline
 
uploaded = files.upload()
 
for pic in uploaded.keys():
 
  path = pic
  img = image.load_img(path, target_size=(150,150))
  imgplot = plt.imshow(img)
  x = image.img_to_array(img)
  x = np.expand_dims(x, axis=0)
 
  images = np.vstack([x])
  category = model.predict(images, batch_size=10)
  
  print(pic)
  if category[0][0] == 1:
    print('Kertas')
  elif category [0][1] == 1:
    print('Batu')
  elif category [0][2] == 1:
    print('Gunting')
  else:
    print('Gambar tidak Dapat Diketahui')
